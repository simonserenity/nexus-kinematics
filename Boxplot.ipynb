{
 "cells": [
  {
   "cell_type": "code",
   "execution_count": 72,
   "metadata": {
    "collapsed": false
   },
   "outputs": [],
   "source": [
    "import pickle\n",
    "import numpy as np\n",
    "from matplotlib import pyplot as plt\n",
    "subjects = {}\n",
    "subjectslist = ['Subject2','Subject3','Subject4','Subject7','Subject8','Subject9','Subject10','Subject11','Subject12']\n",
    "for n in subjectslist:\n",
    "    file = n + '.pkl'\n",
    "    fileopen = open(file, 'rb')\n",
    "    subjects[n] = pickle.load(fileopen)\n",
    "    fileopen.close()\n",
    "    trialnames = list(set(subjects[n].keys()))"
   ]
  },
  {
   "cell_type": "code",
   "execution_count": 73,
   "metadata": {
    "collapsed": false
   },
   "outputs": [
    {
     "name": "stdout",
     "output_type": "stream",
     "text": [
      "WARNING: Subject4 has no trial for R300, subject has been removed from analysis.\n",
      "WARNING: Subject9 has no trial for R150, subject has been removed from analysis.\n",
      "Number parameters:\n",
      "['LeftFoffFraction', 'LeftSpeed', 'LeftSpeedCalc', 'LeftStepLen', 'LeftStepTime', 'LeftStrideLen', 'RightFoffFraction', 'RightSpeed', 'RightSpeedCalc', 'RightStepLen', 'RightStepTime', 'RightStrideLen']\n",
      "Vector parameters:\n",
      "['AffectedSide', 'AffectedSideLongform', 'Frames', 'LANKX', 'LANKY', 'LANKZ', 'LASIX', 'LASIY', 'LASIZ', 'LAbsAnkleAngleX', 'LAbsAnkleAngleY', 'LAbsAnkleAngleZ', 'LAnkleAnglesX', 'LAnkleAnglesY', 'LAnkleAnglesZ', 'LFootProgressAnglesX', 'LFootProgressAnglesY', 'LFootProgressAnglesZ', 'LHEEX', 'LHEEY', 'LHEEZ', 'LHipAnglesX', 'LHipAnglesY', 'LHipAnglesZ', 'LKNEX', 'LKNEY', 'LKNEZ', 'LKneeAnglesX', 'LKneeAnglesY', 'LKneeAnglesZ', 'LPSIX', 'LPSIY', 'LPSIZ', 'LPelvisAnglesX', 'LPelvisAnglesY', 'LPelvisAnglesZ', 'LTHIX', 'LTHIY', 'LTHIZ', 'LTIBX', 'LTIBY', 'LTIBZ', 'LTOEX', 'LTOEY', 'LTOEZ', 'LeftAnkleAngle', 'RANKX', 'RANKY', 'RANKZ', 'RASIX', 'RASIY', 'RASIZ', 'RAbsAnkleAngleX', 'RAbsAnkleAngleY', 'RAbsAnkleAngleZ', 'RAnkleAnglesX', 'RAnkleAnglesY', 'RAnkleAnglesZ', 'RFootProgressAnglesX', 'RFootProgressAnglesY', 'RFootProgressAnglesZ', 'RHEEX', 'RHEEY', 'RHEEZ', 'RHipAnglesX', 'RHipAnglesY', 'RHipAnglesZ', 'RKNEX', 'RKNEY', 'RKNEZ', 'RKneeAnglesX', 'RKneeAnglesY', 'RKneeAnglesZ', 'RPSIX', 'RPSIY', 'RPSIZ', 'RPelvisAnglesX', 'RPelvisAnglesY', 'RPelvisAnglesZ', 'RTHIX', 'RTHIY', 'RTHIZ', 'RTIBX', 'RTIBY', 'RTIBZ', 'RTOEX', 'RTOEY', 'RightAnkleAngle']\n"
     ]
    }
   ],
   "source": [
    "trials = ['FACTORY','R50','R100','R150','R300']\n",
    "paramnames = [x for x in subjects[subjectslist[0]][trials[0]] if type(subjects[subjectslist[0]][trials[0]][x]) is float]\n",
    "for subject in subjectslist:\n",
    "    for trial in trials:\n",
    "        if not subjects[subject][trial]:\n",
    "            subjectslist.remove(subject)\n",
    "            print('WARNING: %s has no trial for %s, subject has been removed from analysis.' %(subject,trial))\n",
    "        else:\n",
    "            subjects[subject][trial]['AffectedSideLongform']=subjects[subject][trial]['AffectedSide']\n",
    "            if subjects[subject][trial]['AffectedSide']=='Left':\n",
    "                subjects[subject][trial]['AffectedSide']='L'\n",
    "            elif subjects[subject][trial]['AffectedSide']=='Right':\n",
    "                subjects[subject][trial]['AffectedSide']='R'\n",
    "print('Number parameters:')\n",
    "print(sorted(paramnames))\n",
    "vectornames = [x for x in subjects[subjectslist[0]][trials[0]] if type(subjects[subjectslist[0]][trials[0]][x]) is not float]\n",
    "print('Vector parameters:')\n",
    "print(sorted(vectornames))"
   ]
  },
  {
   "cell_type": "code",
   "execution_count": 70,
   "metadata": {
    "collapsed": false
   },
   "outputs": [],
   "source": [
    "for subject in subjectslist:\n",
    "    for trial in trials:\n",
    "        for side in ['L','R']:\n",
    "            try:\n",
    "                toe = subjects[subject][trial][side+'TOEZ']\n",
    "                subjects[subject][trial][side+'MaxtoeZ'] = max(toe[int(len(toe)*0.2):int(len(toe)*0.8)]) - min(toe)\n",
    "                subjects[subject][trial][side+'MintoeZ'] = min(toe[int(len(toe)*0.2):int(len(toe)*0.8)]) - min(toe)\n",
    "            except KeyError:\n",
    "                continue"
   ]
  },
  {
   "cell_type": "code",
   "execution_count": 71,
   "metadata": {
    "collapsed": false
   },
   "outputs": [
    {
     "ename": "KeyError",
     "evalue": "'AffectedSideLongform'",
     "output_type": "error",
     "traceback": [
      "\u001b[0;31m---------------------------------------------------------------------------\u001b[0m",
      "\u001b[0;31mKeyError\u001b[0m                                  Traceback (most recent call last)",
      "\u001b[0;32m<ipython-input-71-b795b39608a1>\u001b[0m in \u001b[0;36m<module>\u001b[0;34m()\u001b[0m\n\u001b[1;32m      3\u001b[0m \u001b[1;32mfor\u001b[0m \u001b[0msubjectnum\u001b[0m \u001b[1;32min\u001b[0m \u001b[0mrange\u001b[0m\u001b[1;33m(\u001b[0m\u001b[0mlen\u001b[0m\u001b[1;33m(\u001b[0m\u001b[0msubjectslist\u001b[0m\u001b[1;33m)\u001b[0m\u001b[1;33m)\u001b[0m\u001b[1;33m:\u001b[0m\u001b[1;33m\u001b[0m\u001b[0m\n\u001b[1;32m      4\u001b[0m     \u001b[0msubject\u001b[0m \u001b[1;33m=\u001b[0m \u001b[0msubjectslist\u001b[0m\u001b[1;33m[\u001b[0m\u001b[0msubjectnum\u001b[0m\u001b[1;33m]\u001b[0m\u001b[1;33m\u001b[0m\u001b[0m\n\u001b[0;32m----> 5\u001b[0;31m     \u001b[0mfesside\u001b[0m \u001b[1;33m=\u001b[0m \u001b[0msubjects\u001b[0m\u001b[1;33m[\u001b[0m\u001b[0msubject\u001b[0m\u001b[1;33m]\u001b[0m\u001b[1;33m[\u001b[0m\u001b[0mtrials\u001b[0m\u001b[1;33m[\u001b[0m\u001b[1;36m0\u001b[0m\u001b[1;33m]\u001b[0m\u001b[1;33m]\u001b[0m\u001b[1;33m[\u001b[0m\u001b[1;34m'AffectedSideLongform'\u001b[0m\u001b[1;33m]\u001b[0m\u001b[1;33m\u001b[0m\u001b[0m\n\u001b[0m\u001b[1;32m      6\u001b[0m     \u001b[1;32mfor\u001b[0m \u001b[0mtrialnum\u001b[0m \u001b[1;32min\u001b[0m \u001b[0mrange\u001b[0m\u001b[1;33m(\u001b[0m\u001b[0mlen\u001b[0m\u001b[1;33m(\u001b[0m\u001b[0mtrials\u001b[0m\u001b[1;33m)\u001b[0m\u001b[1;33m)\u001b[0m\u001b[1;33m:\u001b[0m\u001b[1;33m\u001b[0m\u001b[0m\n\u001b[1;32m      7\u001b[0m         \u001b[1;32mtry\u001b[0m\u001b[1;33m:\u001b[0m\u001b[1;33m\u001b[0m\u001b[0m\n",
      "\u001b[0;31mKeyError\u001b[0m: 'AffectedSideLongform'"
     ]
    }
   ],
   "source": [
    "analysis = 'FoffFraction'\n",
    "data = [[] for _ in range(len(trials))]\n",
    "for subjectnum in range(len(subjectslist)):\n",
    "    subject = subjectslist[subjectnum]\n",
    "    fesside = subjects[subject][trials[0]]['AffectedSideLongform']\n",
    "    for trialnum in range(len(trials)):\n",
    "        try:\n",
    "            trial = trials[trialnum]\n",
    "            data[trialnum].append(subjects[subject][trial][fesside+analysis])\n",
    "        except KeyError:\n",
    "            continue\n",
    "\n",
    "%matplotlib inline\n",
    "box = plt.boxplot(data, labels=trials)\n",
    "plt.title(analysis)"
   ]
  },
  {
   "cell_type": "code",
   "execution_count": 37,
   "metadata": {
    "collapsed": false
   },
   "outputs": [
    {
     "name": "stdout",
     "output_type": "stream",
     "text": [
      "16\n",
      "15\n",
      "15\n",
      "15\n",
      "15\n",
      "9\n",
      "15\n",
      "10\n",
      "15\n",
      "15\n",
      "15\n",
      "15\n",
      "16\n",
      "10\n",
      "15\n",
      "11\n",
      "16\n",
      "15\n",
      "15\n",
      "15\n",
      "10\n",
      "9\n",
      "15\n",
      "12\n",
      "9\n",
      "15\n",
      "15\n",
      "15\n",
      "9\n",
      "9\n",
      "15\n",
      "10\n",
      "9\n",
      "15\n",
      "15\n",
      "15\n",
      "15\n",
      "9\n",
      "15\n",
      "11\n",
      "9\n",
      "15\n",
      "15\n",
      "15\n",
      "15\n",
      "16\n",
      "15\n",
      "10\n"
     ]
    },
    {
     "ename": "TypeError",
     "evalue": "unsupported operand type(s) for +: 'int' and 'str'",
     "output_type": "error",
     "traceback": [
      "\u001b[0;31m---------------------------------------------------------------------------\u001b[0m",
      "\u001b[0;31mTypeError\u001b[0m                                 Traceback (most recent call last)",
      "\u001b[0;32m<ipython-input-37-1e882acbcdc8>\u001b[0m in \u001b[0;36m<module>\u001b[0;34m()\u001b[0m\n\u001b[1;32m     36\u001b[0m     \u001b[1;32mfor\u001b[0m \u001b[0mn\u001b[0m \u001b[1;32min\u001b[0m \u001b[0mrange\u001b[0m\u001b[1;33m(\u001b[0m\u001b[0mlen\u001b[0m\u001b[1;33m(\u001b[0m\u001b[0marray\u001b[0m\u001b[1;33m[\u001b[0m\u001b[1;36m0\u001b[0m\u001b[1;33m]\u001b[0m\u001b[1;33m)\u001b[0m\u001b[1;33m)\u001b[0m\u001b[1;33m:\u001b[0m\u001b[1;33m\u001b[0m\u001b[0m\n\u001b[1;32m     37\u001b[0m         \u001b[0mtrialpoint\u001b[0m \u001b[1;33m=\u001b[0m \u001b[1;33m[\u001b[0m\u001b[0marray\u001b[0m\u001b[1;33m[\u001b[0m\u001b[0mx\u001b[0m\u001b[1;33m+\u001b[0m\u001b[0mtrialnum\u001b[0m\u001b[1;33m*\u001b[0m\u001b[0mlen\u001b[0m\u001b[1;33m(\u001b[0m\u001b[0msubjectslist\u001b[0m\u001b[1;33m)\u001b[0m\u001b[1;33m]\u001b[0m\u001b[1;33m[\u001b[0m\u001b[0mn\u001b[0m\u001b[1;33m]\u001b[0m \u001b[1;32mfor\u001b[0m \u001b[0mx\u001b[0m \u001b[1;32min\u001b[0m \u001b[0mrange\u001b[0m\u001b[1;33m(\u001b[0m\u001b[0mlen\u001b[0m\u001b[1;33m(\u001b[0m\u001b[0msubjectslist\u001b[0m\u001b[1;33m)\u001b[0m\u001b[1;33m)\u001b[0m\u001b[1;33m]\u001b[0m\u001b[1;33m\u001b[0m\u001b[0m\n\u001b[0;32m---> 38\u001b[0;31m         \u001b[0mavg_per_trial\u001b[0m\u001b[1;33m[\u001b[0m\u001b[0mtrialnum\u001b[0m\u001b[1;33m]\u001b[0m\u001b[1;33m.\u001b[0m\u001b[0mappend\u001b[0m\u001b[1;33m(\u001b[0m\u001b[0msum\u001b[0m\u001b[1;33m(\u001b[0m\u001b[0mtrialpoint\u001b[0m\u001b[1;33m)\u001b[0m\u001b[1;33m/\u001b[0m\u001b[0mlen\u001b[0m\u001b[1;33m(\u001b[0m\u001b[0mtrialpoint\u001b[0m\u001b[1;33m)\u001b[0m\u001b[1;33m)\u001b[0m\u001b[1;33m\u001b[0m\u001b[0m\n\u001b[0m\u001b[1;32m     39\u001b[0m \u001b[1;33m\u001b[0m\u001b[0m\n\u001b[1;32m     40\u001b[0m \u001b[1;31m# plot it\u001b[0m\u001b[1;33m\u001b[0m\u001b[1;33m\u001b[0m\u001b[0m\n",
      "\u001b[0;31mTypeError\u001b[0m: unsupported operand type(s) for +: 'int' and 'str'"
     ]
    }
   ],
   "source": [
    "# make list of lists: lists 1->len(subjectslist) for trial 1, next set for trial 2, etc.\n",
    "vector = 'ANKZ'\n",
    "array = [[] for _ in range(len(subjectslist)*len(trials))]\n",
    "for subjectnum in range(len(subjectslist)):\n",
    "    subject = subjectslist[subjectnum]\n",
    "    fesside = ('R') if subjects[subject][trials[0]]['AffectedSide']=='Right' else ('L')\n",
    "    for trialnum in range(len(trials)):\n",
    "        trial = trials[trialnum]\n",
    "        array[subjectnum+(trialnum*len(subjectslist))] = subjects[subject][trial][fesside+vector]\n",
    "\n",
    "# arraycleaner\n",
    "shortest = len(min(array,key=len))\n",
    "for n in range(len(array)):\n",
    "    line = array[n]\n",
    "    if len(array[n]) != shortest:\n",
    "        this = len(line)\n",
    "        cut = np.ceil(1/((this/shortest) - 1))\n",
    "        #import pdb; pdb.set_trace()\n",
    "        for m in range(len(array[n])):\n",
    "            if m % cut == 0 and m != 0:\n",
    "                line[m] = 'del'\n",
    "        for m in range(len(array[n])):\n",
    "            try:\n",
    "                if line[m] == 'del':\n",
    "                    line.pop(m)\n",
    "            except IndexError:\n",
    "                continue\n",
    "        array[n] = line[0:shortest]\n",
    "for n in range(len(array)):\n",
    "    print(len(array[n]))\n",
    "\n",
    "# average subjects in each trial\n",
    "avg_per_trial = [[] for _ in range(len(trials))]\n",
    "for trialnum in range(len(trials)):\n",
    "    trial = trials[trialnum]\n",
    "    for n in range(len(array[0])):\n",
    "        trialpoint = [array[x+trialnum*len(subjectslist)][n] for x in range(len(subjectslist))]\n",
    "        avg_per_trial[trialnum].append(sum(trialpoint)/len(trialpoint))\n",
    "\n",
    "# plot it\n",
    "lgnd = [0]*len(trials)\n",
    "for trialnum in range(len(trials)):\n",
    "    plt.plot(avg_per_trial[trialnum], label=trials[trialnum])\n",
    "plt.legend()"
   ]
  },
  {
   "cell_type": "code",
   "execution_count": 36,
   "metadata": {
    "collapsed": true
   },
   "outputs": [
    {
     "name": "stdout",
     "output_type": "stream",
     "text": [
      "> \u001b[0;32m<ipython-input-35-3001ad24210f>\u001b[0m(36)\u001b[0;36m<module>\u001b[0;34m()\u001b[0m\n",
      "\u001b[0;32m     34 \u001b[0;31m    \u001b[1;32mfor\u001b[0m \u001b[0mn\u001b[0m \u001b[1;32min\u001b[0m \u001b[0mrange\u001b[0m\u001b[1;33m(\u001b[0m\u001b[0mlen\u001b[0m\u001b[1;33m(\u001b[0m\u001b[0marray\u001b[0m\u001b[1;33m[\u001b[0m\u001b[1;36m0\u001b[0m\u001b[1;33m]\u001b[0m\u001b[1;33m)\u001b[0m\u001b[1;33m)\u001b[0m\u001b[1;33m:\u001b[0m\u001b[1;33m\u001b[0m\u001b[0m\n",
      "\u001b[0m\u001b[0;32m     35 \u001b[0;31m        \u001b[0mtrialpoint\u001b[0m \u001b[1;33m=\u001b[0m \u001b[1;33m[\u001b[0m\u001b[0marray\u001b[0m\u001b[1;33m[\u001b[0m\u001b[0mx\u001b[0m\u001b[1;33m+\u001b[0m\u001b[0mtrialnum\u001b[0m\u001b[1;33m*\u001b[0m\u001b[0mlen\u001b[0m\u001b[1;33m(\u001b[0m\u001b[0msubjectslist\u001b[0m\u001b[1;33m)\u001b[0m\u001b[1;33m]\u001b[0m\u001b[1;33m[\u001b[0m\u001b[0mn\u001b[0m\u001b[1;33m]\u001b[0m \u001b[1;32mfor\u001b[0m \u001b[0mx\u001b[0m \u001b[1;32min\u001b[0m \u001b[0mrange\u001b[0m\u001b[1;33m(\u001b[0m\u001b[0mlen\u001b[0m\u001b[1;33m(\u001b[0m\u001b[0msubjectslist\u001b[0m\u001b[1;33m)\u001b[0m\u001b[1;33m)\u001b[0m\u001b[1;33m]\u001b[0m\u001b[1;33m\u001b[0m\u001b[0m\n",
      "\u001b[0m\u001b[0;32m---> 36 \u001b[0;31m        \u001b[0mavg_per_trial\u001b[0m\u001b[1;33m[\u001b[0m\u001b[0mtrialnum\u001b[0m\u001b[1;33m]\u001b[0m\u001b[1;33m.\u001b[0m\u001b[0mappend\u001b[0m\u001b[1;33m(\u001b[0m\u001b[0msum\u001b[0m\u001b[1;33m(\u001b[0m\u001b[0mtrialpoint\u001b[0m\u001b[1;33m)\u001b[0m\u001b[1;33m/\u001b[0m\u001b[0mlen\u001b[0m\u001b[1;33m(\u001b[0m\u001b[0mtrialpoint\u001b[0m\u001b[1;33m)\u001b[0m\u001b[1;33m)\u001b[0m\u001b[1;33m\u001b[0m\u001b[0m\n",
      "\u001b[0m\u001b[0;32m     37 \u001b[0;31m\u001b[1;33m\u001b[0m\u001b[0m\n",
      "\u001b[0m\u001b[0;32m     38 \u001b[0;31m\u001b[1;31m# plot it\u001b[0m\u001b[1;33m\u001b[0m\u001b[1;33m\u001b[0m\u001b[0m\n",
      "\u001b[0m\n",
      "ipdb> array\n",
      "[[115.496, 'del', 'del', 'del', 'del', 'del', 'del', 'del', 'del', 'del', 'del', 'del', 'del', 'del', 'del', 'del', 'del', 'del', 'del', 'del', 'del', 'del', 'del', 'del', 'del', 'del', 'del', 'del', 'del', 'del', 'del'], [77.726, 76.6305, 75.6081, 76.8985, 77.3066, 77.1862, 77.1281, 77.1912, 77.6803, 78.5837, 79.6314, 80.7182, 81.8885, 84.9453, 89.9132, 99.4853, 118.033, 159.76, 196.228, 229.74, 214.925, 182.062, 131.21, 112.002, 107.286, 111.794, 110.665, 98.5832], [101.006, 100.774, 100.274, 100.057, 99.7518, 99.5433, 99.538, 99.7485, 100.179, 100.852, 101.161, 101.465, 102.534, 106.442, 118.512, 135.203, 156.79, 168.067, 169.711, 161.838, 150.992, 138.291, 129.217, 121.703, 115.081, 110.857, 105.697, 102.195], [108.199, 107.684, 106.925, 106.845, 106.455, 106.044, 105.888, 105.933, 106.041, 106.144, 106.319, 106.528, 106.802, 108.308, 112.052, 123.139, 138.369, 169.435, 189.68, 202.556, 197.682, 177.409, 154.555, 141.024, 129.527, 124.819, 118.452, 112.376], [103.664, 102.906, 96.2618, 91.9885, 90.8165, 90.1828, 88.6009, 87.7451, 87.6286, 87.7344, 87.5926, 87.3534, 87.3107, 87.6073, 90.6816, 98.1, 112.559, 125.007, 135.305, 139.298, 133.963, 121.767, 111.429, 103.964, 104.853, 111.799, 115.674, 109.468], [95.1736, 'del', 'del', 'del', 'del', 'del', 'del', 'del', 'del', 'del', 'del', 'del', 'del', 'del', 'del', 'del', 'del'], [90.2579, 88.7973, 86.1811, 87.5684, 89.5675, 89.8263, 89.5477, 89.3188, 89.2664, 89.5118, 89.9977, 90.2063, 90.1468, 91.4993, 97.5536, 116.672, 141.294, 177.63, 203.622, 219.43, 212.838, 191.603, 155.93, 129.582, 108.057, 102.235, 104.014, 104.467], [119.576, 'del', 'del', 'del', 'del', 'del', 'del', 'del', 'del', 'del', 'del', 'del', 'del', 'del', 'del', 'del', 'del', 'del', 'del', 'del'], [113.561, 113.035, 112.129, 112.203, 111.935, 111.556, 110.127, 109.372, 109.473, 109.966, 110.225, 111.004, 112.032, 113.248, 115.883, 119.96, 129.687, 143.664, 167.085, 196.349, 187.453, 156.029, 147.407, 150.05, 152.488, 149.39, 138.751, 125.408], [85.4683, 86.338, 91.8043, 106.427, 135.614, 181.001, 234.441, 249.054, 226.809, 177.719, 124.682, 94.9983, 92.811, 97.651, 90.6605, 80.2178, 75.7271, 76.3142, 76.8965, 77.0307, 77.0403, 77.0245, 77.0772, 77.357, 78.0777, 78.8658, 79.6396, 80.8537], [101.196, 101.179, 101.162, 100.858, 100.403, 100.151, 100.27, 100.552, 101.076, 101.306, 101.428, 101.977, 103.554, 110.887, 124.183, 143.167, 162.16, 174.296, 173.196, 161.911, 149.351, 139.396, 125.901, 118.606, 110.343, 104.832, 100.173, 97.2519], [108.775, 107.94, 106.135, 105.958, 106.025, 105.762, 105.505, 105.48, 105.532, 105.61, 105.844, 105.964, 106.008, 107.813, 113.309, 128.859, 154.186, 183.864, 203.276, 209.848, 196.59, 175.477, 146.082, 134.104, 126.757, 121.997, 115.131, 108.902], [98.6704, 'del', 'del', 'del', 'del', 'del', 'del', 'del', 'del', 'del', 'del', 'del', 'del', 'del', 'del', 'del'], [106.034, 'del', 'del', 'del', 'del', 'del', 'del', 'del', 'del', 'del', 'del', 'del', 'del', 'del', 'del', 'del', 'del', 'del', 'del'], [89.7413, 88.5006, 86.9431, 88.5673, 89.9747, 89.6552, 89.0652, 88.8534, 88.8503, 88.755, 88.7278, 88.9711, 89.2568, 90.1605, 93.541, 105.425, 122.661, 159.503, 187.794, 218.395, 230.454, 222.314, 190.626, 157.984, 121.628, 114.455, 116.052, 113.853], [118.092, 'del', 'del', 'del', 'del', 'del', 'del', 'del', 'del', 'del', 'del', 'del', 'del', 'del', 'del', 'del', 'del', 'del', 'del', 'del', 'del'], [113.315, 'del', 'del', 'del', 'del', 'del', 'del', 'del', 'del', 'del', 'del', 'del', 'del', 'del', 'del', 'del', 'del', 'del', 'del', 'del', 'del', 'del', 'del', 'del', 'del', 'del', 'del', 'del', 'del', 'del', 'del'], [83.5709, 81.3847, 75.6767, 75.8789, 76.5723, 76.21, 75.8541, 75.8253, 76.1397, 76.6849, 77.3364, 77.918, 78.6923, 80.043, 82.3812, 88.8568, 105.42, 128.43, 160.664, 198.382, 206.428, 185.23, 141.188, 112.539, 101.55, 104.162, 103.868, 95.7775], [101.794, 101.896, 102.02, 101.675, 101.187, 101.041, 101.201, 101.548, 101.862, 101.874, 101.875, 102.43, 104.003, 108.439, 121.637, 140.322, 165.128, 177.815, 178.994, 168.745, 155.547, 140.402, 130.077, 122.117, 114.999, 109.391, 102.149, 98.5403], [107.667, 106.933, 105.731, 105.863, 105.642, 105.232, 105.024, 105.182, 105.508, 105.816, 106.16, 106.157, 106.399, 111.255, 121.406, 144.182, 175.496, 206.586, 221.714, 215.842, 195.814, 171.554, 142.497, 132.102, 126.203, 121.445, 113.737, 107.138], [94.1462, 'del', 'del', 'del', 'del', 'del', 'del', 'del', 'del', 'del', 'del', 'del', 'del', 'del', 'del', 'del', 'del', 'del', 'del'], [94.3264, 'del', 'del', 'del', 'del', 'del', 'del', 'del', 'del', 'del', 'del', 'del', 'del', 'del', 'del', 'del', 'del', 'del'], [85.84, 85.4125, 86.2784, 88.444, 89.2978, 89.018, 88.9726, 89.092, 89.2537, 89.6458, 90.391, 90.5515, 90.8294, 95.2143, 107.325, 136.827, 167.921, 203.827, 219.451, 209.595, 184.661, 153.913, 120.628, 106.114, 104.596, 109.173, 109.271, 101.881], [120.589, 'del', 'del', 'del', 'del', 'del', 'del', 'del', 'del', 'del', 'del', 'del', 'del', 'del', 'del', 'del', 'del', 'del', 'del', 'del', 'del', 'del', 'del'], [117.715, 'del', 'del', 'del', 'del', 'del', 'del', 'del', 'del', 'del', 'del', 'del', 'del', 'del', 'del', 'del', 'del'], [83.2217, 81.3205, 76.5135, 76.0462, 76.6193, 76.1087, 75.6608, 75.6918, 75.972, 76.3338, 76.6452, 77.1176, 77.6588, 78.6376, 79.1975, 80.9898, 87.6767, 104.927, 123.055, 165.201, 206.205, 225.372, 213.167, 182.731, 129.713, 103.352, 98.4562, 96.889], [101.973, 101.99, 101.922, 101.655, 101.38, 101.332, 101.529, 101.925, 102.309, 102.352, 102.545, 103.534, 106.499, 113.559, 126.778, 149.89, 168.978, 179.872, 179.095, 166.389, 151.759, 140.335, 126.424, 118.593, 112.607, 109.144, 103.15, 99.0432], [106.213, 105.751, 105.425, 105.941, 105.772, 105.331, 105.068, 105.103, 105.167, 105.234, 105.57, 105.825, 106.007, 107.144, 112.837, 127.138, 150.523, 178.785, 202.738, 210.825, 198.786, 179.923, 151.637, 138.846, 129.285, 126.099, 119.502, 112.5], [96.7397, 'del', 'del', 'del', 'del', 'del', 'del', 'del', 'del', 'del', 'del', 'del', 'del', 'del', 'del', 'del', 'del'], [99.965, 'del', 'del', 'del', 'del', 'del', 'del', 'del', 'del', 'del', 'del', 'del', 'del', 'del', 'del', 'del', 'del', 'del'], [88.7379, 87.0678, 83.7779, 85.0983, 88.4573, 88.9952, 88.4776, 88.2036, 88.2016, 88.2984, 88.54, 88.9035, 89.8857, 92.8111, 101.728, 121.342, 151.887, 187.537, 216.87, 226.234, 209.472, 181.673, 136.232, 115.99, 108.351, 112.448, 115.505, 110.596], [118.094, 'del', 'del', 'del', 'del', 'del', 'del', 'del', 'del', 'del', 'del', 'del', 'del', 'del', 'del', 'del', 'del', 'del', 'del'], [116.423, 'del', 'del', 'del', 'del', 'del', 'del', 'del', 'del', 'del', 'del', 'del', 'del', 'del', 'del', 'del', 'del'], [88.593, 86.0585, 78.7729, 76.8379, 77.7633, 77.8071, 77.1706, 76.9691, 77.0628, 77.4353, 77.851, 78.3047, 78.8737, 80.1677, 81.4086, 84.9249, 94.685, 118.925, 144.883, 192.829, 218.374, 216.463, 180.268, 145.957, 105.84, 97.0762, 102.05, 101.624], [101.527, 101.52, 101.559, 101.352, 100.877, 100.676, 100.659, 100.859, 101.21, 101.32, 101.227, 101.236, 102.071, 105.801, 115.545, 136.663, 157.557, 173.477, 178.71, 170.978, 158.152, 147.365, 133.708, 125.099, 116.991, 112.115, 104.793, 99.9449], [108.754, 108.063, 106.775, 106.907, 106.702, 106.043, 105.623, 105.593, 105.651, 105.688, 105.748, 105.889, 106.005, 106.435, 108.899, 116.735, 132.372, 160.903, 182.454, 205.53, 204.225, 189.55, 159.827, 144.044, 130.943, 125.55, 119.806, 112.16], [98.4924, 97.4691, 90.8667, 88.7111, 88.2238, 87.5608, 87.0407, 87.319, 87.6416, 87.6435, 87.5506, 87.4053, 87.4083, 87.9707, 92.7127, 103.832, 124.797, 142.577, 158.389, 165.234, 161.322, 155.066, 142.157, 126.293, 113.438, 109.427, 108.237, 105.597], [101.501, 'del', 'del', 'del', 'del', 'del', 'del', 'del', 'del', 'del', 'del', 'del', 'del', 'del', 'del', 'del', 'del', 'del'], [87.989, 86.9932, 86.0212, 87.6772, 89.0736, 89.2215, 88.9636, 88.6082, 88.3958, 88.595, 89.2021, 89.5625, 90.0767, 92.7136, 99.3792, 123.093, 148.728, 186.577, 213.674, 231.108, 221.332, 196.025, 153.751, 124.778, 108.137, 111.557, 115.048, 109.821], [120.539, 'del', 'del', 'del', 'del', 'del', 'del', 'del', 'del', 'del', 'del', 'del', 'del', 'del', 'del', 'del', 'del', 'del', 'del', 'del', 'del'], [115.745, 'del', 'del', 'del', 'del', 'del', 'del', 'del', 'del', 'del', 'del', 'del', 'del', 'del', 'del', 'del', 'del'], [84.2903, 82.271, 77.6124, 77.7315, 78.5636, 78.0403, 77.5761, 77.7312, 78.1873, 78.6275, 79.1097, 79.5079, 80.1751, 81.1961, 84.0318, 92.2736, 107.792, 130.291, 160.856, 200.064, 213.203, 202.967, 169.131, 130.56, 105.046, 98.3215, 100.636, 97.8019], [105.193, 104.878, 104.151, 104.017, 103.905, 103.841, 103.839, 103.859, 103.885, 104.054, 104.567, 104.937, 105.023, 107.452, 115.355, 130.65, 153.777, 168.503, 173.261, 166.354, 155.226, 143.535, 131.333, 123.568, 118.19, 112.578, 107.667, 102.554], [111.245, 109.844, 106.159, 105.421, 105.771, 105.503, 105.121, 105.116, 105.319, 105.593, 105.955, 106.252, 106.346, 106.941, 110.736, 125.1, 145.884, 185.288, 206.258, 211.619, 197.468, 169.262, 145.869, 135.292, 129.189, 127.388, 123.497, 117.642], [98.0894, 96.9757, 90.9383, 89.5606, 88.9889, 88.0147, 87.4288, 87.4408, 87.5746, 87.725, 87.9636, 88.0807, 88.0568, 88.2605, 90.4444, 97.7133, 110.236, 125.39, 141.976, 155.651, 158.243, 151.632, 142.522, 129.951, 116.178, 108.395, 106.4, 102.549], [96.6538, 'del', 'del', 'del', 'del', 'del', 'del', 'del', 'del', 'del', 'del', 'del', 'del', 'del', 'del', 'del'], [88.0707, 86.7777, 84.9007, 86.4221, 88.1505, 88.0992, 88.0009, 88.1247, 87.8338, 87.7901, 88.3262, 88.853, 89.0621, 89.3589, 92.3763, 110.343, 134.252, 172.896, 208.428, 224.703, 218.197, 195.912, 146.792, 118.408, 103.279, 107.193, 110.65, 105.357], [120.901, 'del', 'del', 'del', 'del', 'del', 'del', 'del', 'del', 'del', 'del', 'del', 'del', 'del', 'del', 'del', 'del', 'del', 'del', 'del']]\n",
      "ipdb> for n in range(len(array)):\n",
      "*** SyntaxError: unexpected EOF while parsing\n",
      "ipdb> exit\n"
     ]
    }
   ],
   "source": [
    "debug"
   ]
  },
  {
   "cell_type": "code",
   "execution_count": null,
   "metadata": {
    "collapsed": true
   },
   "outputs": [],
   "source": []
  }
 ],
 "metadata": {
  "anaconda-cloud": {},
  "kernelspec": {
   "display_name": "Python [default]",
   "language": "python",
   "name": "python3"
  },
  "language_info": {
   "codemirror_mode": {
    "name": "ipython",
    "version": 3
   },
   "file_extension": ".py",
   "mimetype": "text/x-python",
   "name": "python",
   "nbconvert_exporter": "python",
   "pygments_lexer": "ipython3",
   "version": "3.5.2"
  }
 },
 "nbformat": 4,
 "nbformat_minor": 1
}
